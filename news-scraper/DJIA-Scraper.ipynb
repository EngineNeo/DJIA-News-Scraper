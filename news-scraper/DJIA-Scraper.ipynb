{
 "cells": [
  {
   "cell_type": "code",
   "execution_count": 3,
   "metadata": {},
   "outputs": [
    {
     "data": {
      "text/plain": [
       "[]"
      ]
     },
     "execution_count": 3,
     "metadata": {},
     "output_type": "execute_result"
    }
   ],
   "source": [
    "import csv\n",
    "from autoscraper import AutoScraper\n",
    "\n",
    "news_url = 'https://www.cnbc.com/search/?query=AAPL&qsearchterm=AAPL'\n",
    "wanted_list = [\"2023-01-01\", \"Example headline about Company\"]\n",
    "\n",
    "scraper = AutoScraper()\n",
    "scraper.build(news_url + 'AAPL', wanted_list)\n"
   ]
  },
  {
   "cell_type": "code",
   "execution_count": 8,
   "metadata": {},
   "outputs": [],
   "source": [
    "def get_stock_news(stock):\n",
    "    url = f\"{news_url}{stock}\"\n",
    "    result = scraper.get_result_similar(url, group_by_alias=True)\n",
    "    dates = result.get('Date', [])\n",
    "    headlines = result.get('Headline', [])\n",
    "    return list(zip(dates, headlines))\n",
    "\n",
    "def read_djia_stocks(filename):\n",
    "    with open(filename, 'r') as file:\n",
    "        stocks = [line.strip() for line in file]\n",
    "    return stocks\n",
    "\n",
    "def save_to_csv(data, filename):\n",
    "    with open(filename, mode='w', newline='') as file:\n",
    "        writer = csv.writer(file)\n",
    "        writer.writerow(['date', 'stock', 'headline'])\n",
    "        for row in data:\n",
    "            writer.writerows(row)\n",
    "\n",
    "def main():\n",
    "    stocks = read_djia_stocks('../DJIA-30')\n",
    "    all_data = []\n",
    "\n",
    "    for stock in stocks:\n",
    "        news_data = get_stock_news(stock)\n",
    "        stock_data = [(date, stock, headline) for date, headline in news_data]\n",
    "        all_data.append(stock_data)\n",
    "\n",
    "    save_to_csv(all_data, 'djia_news.csv')\n"
   ]
  },
  {
   "cell_type": "code",
   "execution_count": 9,
   "metadata": {},
   "outputs": [],
   "source": [
    "if __name__ == '__main__':\n",
    "    main()\n"
   ]
  }
 ],
 "metadata": {
  "kernelspec": {
   "display_name": "webscraping",
   "language": "python",
   "name": "python3"
  },
  "language_info": {
   "codemirror_mode": {
    "name": "ipython",
    "version": 3
   },
   "file_extension": ".py",
   "mimetype": "text/x-python",
   "name": "python",
   "nbconvert_exporter": "python",
   "pygments_lexer": "ipython3",
   "version": "3.12.3"
  }
 },
 "nbformat": 4,
 "nbformat_minor": 2
}
